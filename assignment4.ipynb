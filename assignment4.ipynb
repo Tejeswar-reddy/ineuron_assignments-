{
 "cells": [
  {
   "cell_type": "code",
   "execution_count": 8,
   "metadata": {},
   "outputs": [
    {
     "name": "stdout",
     "output_type": "stream",
     "text": [
      "6.0\n"
     ]
    }
   ],
   "source": [
    "class Parameters:\n",
    "    def __init__(self,a,b,c):\n",
    "        self.a=a\n",
    "        self.b=b\n",
    "        self.c=c\n",
    "    \n",
    "class Area(Parameters):\n",
    "    def __init__(self,a,b,c):\n",
    "        super().__init__(a,b,c)\n",
    "    def area(self):\n",
    "        s=(self.a+self.b+self.c)/2\n",
    "        return (s*(s-self.a)*(s-self.b)*(s-self.c))**0.5\n",
    "A=Area(3,4,5)\n",
    "x=A.area()\n",
    "print(x)"
   ]
  },
  {
   "cell_type": "code",
   "execution_count": 12,
   "metadata": {},
   "outputs": [
    {
     "name": "stdout",
     "output_type": "stream",
     "text": [
      "['fjsdfji', 'lwfjiiowriofjwij', 'wrrfijsjlkjfrufij', 'fjifikjfwf']\n"
     ]
    }
   ],
   "source": [
    "class Long:\n",
    "    def __init__(self,list1,n):\n",
    "        self.list1=list1\n",
    "        self.n=n\n",
    "    def filter_long_words(self):\n",
    "        l=[]\n",
    "        for i in self.list1:\n",
    "            if len(i)>=self.n:\n",
    "                l.append(i)\n",
    "        return l\n",
    "                \n",
    "\n",
    "l=[\"fjsdfji\",\"lwfjiiowriofjwij\",\"wrrfijsjlkjfrufij\",\"fjifikjfwf\",\"ds\",\"v\"]                \n",
    "                \n",
    "x=Long(l,3)\n",
    "print(x.filter_long_words())"
   ]
  },
  {
   "cell_type": "code",
   "execution_count": 13,
   "metadata": {},
   "outputs": [
    {
     "name": "stdout",
     "output_type": "stream",
     "text": [
      "a\n",
      "True\n"
     ]
    }
   ],
   "source": [
    "def vowel(x):\n",
    "    l=[\"a\",\"A\",\"E\",\"e\",\"i\",\"I\",\"O\",\"o\",\"u\",\"U\"]\n",
    "    if x in l:\n",
    "        return True\n",
    "    return False\n",
    "x=input()\n",
    "print(vowel(x))"
   ]
  },
  {
   "cell_type": "code",
   "execution_count": 15,
   "metadata": {},
   "outputs": [
    {
     "name": "stdout",
     "output_type": "stream",
     "text": [
      "[5, 5, 4, 3, 4]\n"
     ]
    }
   ],
   "source": [
    "def map_fun(i):\n",
    "    return len(i)\n",
    "out=map(map_fun,[\"asdjf\",\"kldfk\",\"sdjf\",\"klj\",\"sjdf\"])\n",
    "print(list(out))"
   ]
  },
  {
   "cell_type": "code",
   "execution_count": null,
   "metadata": {},
   "outputs": [],
   "source": []
  }
 ],
 "metadata": {
  "kernelspec": {
   "display_name": "Python 3",
   "language": "python",
   "name": "python3"
  },
  "language_info": {
   "codemirror_mode": {
    "name": "ipython",
    "version": 3
   },
   "file_extension": ".py",
   "mimetype": "text/x-python",
   "name": "python",
   "nbconvert_exporter": "python",
   "pygments_lexer": "ipython3",
   "version": "3.7.3"
  }
 },
 "nbformat": 4,
 "nbformat_minor": 2
}
